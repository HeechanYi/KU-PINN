{
 "cells": [
  {
   "cell_type": "markdown",
   "metadata": {},
   "source": [
    "1. Write a program that prints the sum of the first 10 positive integers."
   ]
  },
  {
   "cell_type": "code",
   "execution_count": 1,
   "metadata": {},
   "outputs": [
    {
     "name": "stdout",
     "output_type": "stream",
     "text": [
      "55\n"
     ]
    }
   ],
   "source": [
    "a = 0\n",
    "for i in range(10):\n",
    "    a += i+1\n",
    "\n",
    "print(a)"
   ]
  },
  {
   "cell_type": "markdown",
   "metadata": {},
   "source": [
    "2. Write a program that prints the product of the first 10 positive integers."
   ]
  },
  {
   "cell_type": "code",
   "execution_count": 3,
   "metadata": {},
   "outputs": [
    {
     "name": "stdout",
     "output_type": "stream",
     "text": [
      "3628800\n"
     ]
    }
   ],
   "source": [
    "a = 1\n",
    "for i in range(10):\n",
    "    a *= i+1\n",
    "\n",
    "print(a)"
   ]
  },
  {
   "cell_type": "markdown",
   "metadata": {},
   "source": [
    "3. The initial balance of an account is 1,000 won, and it earns 5% interest every year. Write a program that prints the account balance after 1 year, 2 years, and 3 years.\n"
   ]
  },
  {
   "cell_type": "code",
   "execution_count": 6,
   "metadata": {},
   "outputs": [
    {
     "name": "stdout",
     "output_type": "stream",
     "text": [
      "1 year account balance : 1050 won\n",
      "2 year account balance : 1102 won\n",
      "3 year account balance : 1157 won\n"
     ]
    }
   ],
   "source": [
    "balance = 1000\n",
    "interest = 0.05\n",
    "\n",
    "for i in range(3):\n",
    "    balance = balance * (1 + interest)\n",
    "    print(f\"{i+1} year account balance : {int(balance)} won\")"
   ]
  },
  {
   "cell_type": "markdown",
   "metadata": {},
   "source": [
    "4. Write a program that prints three items, such as the name of your best friends or your favorite movie, on three seperate lines."
   ]
  },
  {
   "cell_type": "code",
   "execution_count": 8,
   "metadata": {},
   "outputs": [
    {
     "name": "stdout",
     "output_type": "stream",
     "text": [
      "You have to choose the right category\n"
     ]
    }
   ],
   "source": [
    "friends = []\n",
    "movies = []\n",
    "\n",
    "category = input(\"Choose the category(friends / movies)\")\n",
    "\n",
    "if category == 'friends':\n",
    "    for _ in range(3):\n",
    "        item = input(\"Write down your favorite friend :\")\n",
    "        friends.append(item)\n",
    "    \n",
    "    print(\"Your best friends\")\n",
    "    for i in range(3):\n",
    "        print(friends[i])\n",
    "    \n",
    "elif category == 'movies':\n",
    "    for _ in range(3):    \n",
    "        item = input(\"Write down your favorite movie :\")\n",
    "        movies.append(item)\n",
    "\n",
    "    print(\"Your favorite movies\")\n",
    "    for i in range(3):\n",
    "        print(movies[i])\n",
    "\n",
    "else:\n",
    "    print('You have to choose the right category')"
   ]
  },
  {
   "cell_type": "markdown",
   "metadata": {},
   "source": [
    "5. Write a program that calculates and prints the perimeter and diagonal length of a letter-sized paper(8.5cm x 11cm)"
   ]
  },
  {
   "cell_type": "code",
   "execution_count": 11,
   "metadata": {},
   "outputs": [
    {
     "name": "stdout",
     "output_type": "stream",
     "text": [
      "A letter-sized paper's perimeter : 39.0cm\n",
      "A letter-sized paper's diagonal length : 13.901438774457844cm\n"
     ]
    }
   ],
   "source": [
    "from math import sqrt\n",
    "\n",
    "width = 8.5\n",
    "height = 11\n",
    "\n",
    "perimeter = 2 * (width + height)\n",
    "diagonal = sqrt(width ** 2 + height ** 2)\n",
    "\n",
    "print(f\"A letter-sized paper's perimeter : {perimeter}cm\")\n",
    "print(f\"A letter-sized paper's diagonal length : {diagonal}cm\")"
   ]
  },
  {
   "cell_type": "markdown",
   "metadata": {},
   "source": [
    "6. Write a program that takes a number as input and displays the square, cube, and fourth power of the number."
   ]
  },
  {
   "cell_type": "code",
   "execution_count": 12,
   "metadata": {},
   "outputs": [
    {
     "name": "stdout",
     "output_type": "stream",
     "text": [
      "square of your number : 9.0\n",
      "cube of your number : 27.0\n",
      "fourth power of your number : 81.0\n"
     ]
    }
   ],
   "source": [
    "number = float(input(\"Write down a number\"))\n",
    "\n",
    "print(f\"square of your number : {number ** 2}\")\n",
    "print(f\"cube of your number : {number ** 3}\")\n",
    "print(f\"fourth power of your number : {number ** 4}\")"
   ]
  },
  {
   "cell_type": "markdown",
   "metadata": {},
   "source": [
    "7. Write a program that prompts the user to enter the following:\n",
    "   \n",
    "> 1. The number of  gallons of gasoline in the fuel tank (L)\n",
    "> 2. The fuel efficiency in miles per gallon (km/L)\n",
    "> 3. The price of gasoline per gallon (won/L)\n",
    "\n",
    "Then, print the cost per 100km and the distance the car can travel with the current amount of gasoline in the tank."
   ]
  },
  {
   "cell_type": "code",
   "execution_count": 16,
   "metadata": {},
   "outputs": [
    {
     "name": "stdout",
     "output_type": "stream",
     "text": [
      "The cost per 100km : 10833 won\n",
      "The distance the car can travel with the current amount of gasoline in the tank. : 120.0 km\n"
     ]
    }
   ],
   "source": [
    "gasoline = float(input(\"The number of gallons of gasoline in the tank(L):\"))\n",
    "fuel_efficiency = float(input(\"The fuel efficiency in miles per gallon (km/L):\"))\n",
    "price = float(input(\"The price of gasoline per gallon (won/L):\"))\n",
    "\n",
    "cost = int((price / fuel_efficiency) * 100)\n",
    "distance = gasoline * fuel_efficiency\n",
    "\n",
    "print(f\"The cost per 100km : {cost} won\")\n",
    "print(f\"The distance the car can travel with the current amount of gasoline in the tank. : {distance} km\")"
   ]
  },
  {
   "cell_type": "markdown",
   "metadata": {},
   "source": [
    "8. Write a program that takes a car number input in the format '187누 5103' and outputs the last four digits"
   ]
  },
  {
   "cell_type": "code",
   "execution_count": 20,
   "metadata": {},
   "outputs": [
    {
     "name": "stdout",
     "output_type": "stream",
     "text": [
      "Your last four license number is 1649\n"
     ]
    }
   ],
   "source": [
    "a = input(\"Write your license plate.\")\n",
    "\n",
    "print(f\"Your last four license number is {a[-4:]}\")"
   ]
  },
  {
   "cell_type": "markdown",
   "metadata": {},
   "source": [
    "9. Write a program that prints the string a='python' in reverse."
   ]
  },
  {
   "cell_type": "code",
   "execution_count": 4,
   "metadata": {},
   "outputs": [
    {
     "data": {
      "text/plain": [
       "'nohtyp'"
      ]
     },
     "execution_count": 4,
     "metadata": {},
     "output_type": "execute_result"
    }
   ],
   "source": [
    "a = 'python'\n",
    "a[::-1]"
   ]
  },
  {
   "cell_type": "markdown",
   "metadata": {},
   "source": [
    "10. Let's assign phone_number = '010-1111-2222'. Write a program that outputs the string with the '-' characters removed from phone_number."
   ]
  },
  {
   "cell_type": "code",
   "execution_count": 5,
   "metadata": {},
   "outputs": [
    {
     "data": {
      "text/plain": [
       "'01011112222'"
      ]
     },
     "execution_count": 5,
     "metadata": {},
     "output_type": "execute_result"
    }
   ],
   "source": [
    "phone_number = '010-1111-2222'\n",
    "phone_number.replace('-', '')"
   ]
  },
  {
   "cell_type": "markdown",
   "metadata": {},
   "source": [
    "11. Write a program that takes an arbitary string as input and replaces all lowercase 'a' characters in the string with uppercase 'B' characters."
   ]
  },
  {
   "cell_type": "code",
   "execution_count": 6,
   "metadata": {},
   "outputs": [
    {
     "name": "stdout",
     "output_type": "stream",
     "text": [
      "Your input : alphabet\n",
      "New string : BlphBbet\n"
     ]
    }
   ],
   "source": [
    "arbitary_string = input(\"Write down an arbitary string\")\n",
    "new_string = arbitary_string.replace('a', 'B')\n",
    "\n",
    "print(\"Your input :\", arbitary_string)\n",
    "print(\"New string :\", new_string)"
   ]
  },
  {
   "cell_type": "markdown",
   "metadata": {},
   "source": [
    "12. Write a program that takes an integer as input and prints wheter it is ia negative, zero, or positive."
   ]
  },
  {
   "cell_type": "code",
   "execution_count": 8,
   "metadata": {},
   "outputs": [
    {
     "name": "stdout",
     "output_type": "stream",
     "text": [
      "Your integer(-6) is negative\n"
     ]
    }
   ],
   "source": [
    "input_integer = int(input(\"Write down your integer\"))\n",
    "\n",
    "if input_integer < 0:\n",
    "    print(f'Your integer({input_integer}) is negative')\n",
    "elif input_integer > 0:\n",
    "    print(f'Your integer({input_integer}) is negative')\n",
    "else:\n",
    "    print(f\"Your integer({input_integer}) is zero\")"
   ]
  },
  {
   "cell_type": "markdown",
   "metadata": {},
   "source": [
    "13. Write a program that takes three numbers as inputs and prints \"All same\" if they are all the same, \"All different\" if they are all different, and \"None of the above\""
   ]
  },
  {
   "cell_type": "code",
   "execution_count": 10,
   "metadata": {},
   "outputs": [
    {
     "name": "stdout",
     "output_type": "stream",
     "text": [
      "Your input number : 3 2 3\n",
      "None of above\n"
     ]
    }
   ],
   "source": [
    "num1 = input(\"Write three number(1/3)\")\n",
    "num2 = input(\"Write three number(2/3)\")\n",
    "num3 = input(\"Write three number(3/3)\")\n",
    "\n",
    "print(\"Your input number :\", num1, num2, num3)\n",
    "\n",
    "if num1 == num2 and num1 == num3 :\n",
    "    print(\"All same\")\n",
    "elif num1 == num2 or num1 == num3 or num2 == num3 :\n",
    "    print(\"None of above\")\n",
    "else:\n",
    "    print(\"All different\")"
   ]
  },
  {
   "cell_type": "markdown",
   "metadata": {},
   "source": [
    "14. Write a program that converts a letter grade to a nummeric grade. The grades are given as A, B, C, D or F, and may be followed a + or -. The corresponding numeric values are 4, 3, 2, 1, and 0. There is no F+ or F- and a + or - adjusts the value by +- 0.3."
   ]
  },
  {
   "cell_type": "code",
   "execution_count": 11,
   "metadata": {},
   "outputs": [
    {
     "name": "stdout",
     "output_type": "stream",
     "text": [
      "The letter grade you get : B\n",
      "Converted grade : 3\n"
     ]
    }
   ],
   "source": [
    "grade = input(\"Write the letter grade(A/B/C/D/F)\")\n",
    "pm = input(\"Write the additional grade option(+/-)\")\n",
    "print(\"The letter grade you get :\", grade+pm)\n",
    "\n",
    "if grade == 'A':\n",
    "    numeric_grade = 4\n",
    "    \n",
    "    if pm == \"+\":\n",
    "        numeric_grade += 0.3\n",
    "    elif pm == '-':\n",
    "        numeric_grade -= 0.3\n",
    "\n",
    "elif grade == 'B':\n",
    "    numeric_grade = 3\n",
    "    \n",
    "    if pm == \"+\":\n",
    "        numeric_grade += 0.3\n",
    "    elif pm == '-':\n",
    "        numeric_grade -= 0.3\n",
    "\n",
    "elif grade == \"C\":\n",
    "    numeric_grade = 2\n",
    "    \n",
    "    if pm == \"+\":\n",
    "        numeric_grade += 0.3\n",
    "    elif pm == '-':\n",
    "        numeric_grade -= 0.3\n",
    "\n",
    "elif grade == \"D\":\n",
    "    numeric_grade = 1\n",
    "\n",
    "    if pm == \"+\":\n",
    "        numeric_grade += 0.3\n",
    "    elif pm == '-':\n",
    "        numeric_grade -= 0.3\n",
    "\n",
    "elif grade == \"F\":\n",
    "    numeric_grade = 0\n",
    "\n",
    "else:\n",
    "    print(\"Your input has some error\")\n",
    "\n",
    "print(\"Converted grade :\", numeric_grade)\n"
   ]
  },
  {
   "cell_type": "markdown",
   "metadata": {},
   "source": [
    "15. Write a program that takes three string literals as inputs and sorts them in lexicographical order."
   ]
  },
  {
   "cell_type": "code",
   "execution_count": 12,
   "metadata": {},
   "outputs": [
    {
     "name": "stdout",
     "output_type": "stream",
     "text": [
      "Sorted strings in lexicographical order:\n",
      "animation\n",
      "apple\n",
      "box\n"
     ]
    }
   ],
   "source": [
    "string1 = input(\"Enter the first string: \")\n",
    "string2 = input(\"Enter the second string: \")\n",
    "string3 = input(\"Enter the third string: \")\n",
    "\n",
    "string_list = [string1, string2, string3]\n",
    "\n",
    "string_list.sort()\n",
    "print(\"Sorted strings in lexicographical order:\")\n",
    "for s in string_list:\n",
    "    print(s)"
   ]
  },
  {
   "cell_type": "markdown",
   "metadata": {},
   "source": [
    "16. A year with 366 days is called a leap year. A year is a leap year if it is divisible by 4. However, if it is divisible by 100, it is not a leap year unless it is also divisible by 400. Write a program that takes a year as input and determines whether it is a leap year."
   ]
  },
  {
   "cell_type": "code",
   "execution_count": 15,
   "metadata": {},
   "outputs": [
    {
     "name": "stdout",
     "output_type": "stream",
     "text": [
      "2004 is a leap year.\n"
     ]
    }
   ],
   "source": [
    "year = int(input(\"Enter a year\"))\n",
    "\n",
    "if year % 4 == 0:\n",
    "    if year % 100 == 0:\n",
    "        if year % 400 == 0:\n",
    "            leap = True\n",
    "        else:\n",
    "            leap = False\n",
    "    else:\n",
    "        leap = False\n",
    "    leap = True\n",
    "else : \n",
    "    leap = False\n",
    "\n",
    "if leap:\n",
    "    print(f\"{year} is a leap year.\")\n",
    "else:\n",
    "    print(f\"{year} is not a leap year.\")\n",
    "\n",
    "    "
   ]
  }
 ],
 "metadata": {
  "kernelspec": {
   "display_name": "Python 3",
   "language": "python",
   "name": "python3"
  },
  "language_info": {
   "codemirror_mode": {
    "name": "ipython",
    "version": 3
   },
   "file_extension": ".py",
   "mimetype": "text/x-python",
   "name": "python",
   "nbconvert_exporter": "python",
   "pygments_lexer": "ipython3",
   "version": "3.12.2"
  }
 },
 "nbformat": 4,
 "nbformat_minor": 2
}
