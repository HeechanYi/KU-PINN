{
 "cells": [
  {
   "cell_type": "markdown",
   "metadata": {},
   "source": [
    "1. Add a method that cancels one click to the counter class."
   ]
  },
  {
   "cell_type": "code",
   "execution_count": 1,
   "metadata": {},
   "outputs": [],
   "source": [
    "class Counter:\n",
    "    def __init__(self):\n",
    "        self.count = 0\n",
    "    \n",
    "    def click(self):\n",
    "        self.count += 1\n",
    "    \n",
    "    def cancel_click(self):\n",
    "        if self.count > 0:\n",
    "            self.count -= 1\n",
    "    \n",
    "    def get_count(self):\n",
    "        return self.count"
   ]
  },
  {
   "cell_type": "code",
   "execution_count": 2,
   "metadata": {},
   "outputs": [
    {
     "data": {
      "text/plain": [
       "2"
      ]
     },
     "execution_count": 2,
     "metadata": {},
     "output_type": "execute_result"
    }
   ],
   "source": [
    "counter = Counter()\n",
    "counter.click()\n",
    "counter.click()\n",
    "counter.click()\n",
    "counter.cancel_click()\n",
    "\n",
    "counter.get_count()"
   ]
  },
  {
   "cell_type": "markdown",
   "metadata": {},
   "source": [
    "2. Implement a Counter class that only allows a limited number of people. If the limit is exceeded, it should print ’Entry restricted’ and terminate. The number limit should be set as a default or be input when the\n",
    "class is instantiated."
   ]
  },
  {
   "cell_type": "code",
   "execution_count": 3,
   "metadata": {},
   "outputs": [],
   "source": [
    "class LimitedCounter:\n",
    "    def __init__(self, limit=10):\n",
    "        self.count = 0\n",
    "        self.limit = limit\n",
    "    \n",
    "    def enter(self):\n",
    "        if self.count < self.limit:\n",
    "            self.count += 1\n",
    "            print(f\"Entry allowed: {self.count}/{self.limit}\")\n",
    "        else:\n",
    "            print(\"Entry restricted\")\n",
    "    \n",
    "    def get_count(self):\n",
    "        return self.count"
   ]
  },
  {
   "cell_type": "code",
   "execution_count": 4,
   "metadata": {},
   "outputs": [
    {
     "name": "stdout",
     "output_type": "stream",
     "text": [
      "Entry allowed: 1/20\n",
      "Entry allowed: 2/20\n",
      "Entry allowed: 3/20\n",
      "Entry allowed: 4/20\n",
      "Entry allowed: 5/20\n",
      "Entry allowed: 6/20\n",
      "Entry allowed: 7/20\n",
      "Entry allowed: 8/20\n",
      "Entry allowed: 9/20\n",
      "Entry allowed: 10/20\n",
      "Entry allowed: 11/20\n",
      "Entry allowed: 12/20\n",
      "Entry allowed: 13/20\n",
      "Entry allowed: 14/20\n",
      "Entry allowed: 15/20\n",
      "Entry allowed: 16/20\n",
      "Entry allowed: 17/20\n",
      "Entry allowed: 18/20\n",
      "Entry allowed: 19/20\n",
      "Entry allowed: 20/20\n",
      "Entry restricted\n"
     ]
    },
    {
     "data": {
      "text/plain": [
       "20"
      ]
     },
     "execution_count": 4,
     "metadata": {},
     "output_type": "execute_result"
    }
   ],
   "source": [
    "limit = int(input(\"Set The Limit for the device:\"))\n",
    "n = int(input(\"Give the number of enters:\")) \n",
    "lc = LimitedCounter(limit=limit)\n",
    "\n",
    "for _ in range(n):\n",
    "    lc.enter()\n",
    "\n",
    "lc.get_count()"
   ]
  },
  {
   "cell_type": "markdown",
   "metadata": {},
   "source": [
    "3. Implement a class where User A and User B each roll a die, compare the results, and print ’win,’ ’lose,’ or ’draw’ based on the comparison"
   ]
  },
  {
   "cell_type": "code",
   "execution_count": 5,
   "metadata": {},
   "outputs": [],
   "source": [
    "import random\n",
    "\n",
    "class DiceGame:\n",
    "    def roll_dice(self):\n",
    "        return random.randint(1, 6)\n",
    "    \n",
    "    def play_game(self):\n",
    "        user_a_roll = self.roll_dice()\n",
    "        user_b_roll = self.roll_dice()\n",
    "        \n",
    "        print(f\"User A rolled: {user_a_roll}\")\n",
    "        print(f\"User B rolled: {user_b_roll}\")\n",
    "        \n",
    "        if user_a_roll > user_b_roll:\n",
    "            print(\"User A wins!\")\n",
    "        elif user_a_roll < user_b_roll:\n",
    "            print(\"User B wins!\")\n",
    "        else:\n",
    "            print(\"It's a draw!\")"
   ]
  },
  {
   "cell_type": "code",
   "execution_count": 6,
   "metadata": {},
   "outputs": [
    {
     "name": "stdout",
     "output_type": "stream",
     "text": [
      "User A rolled: 6\n",
      "User B rolled: 1\n",
      "User A wins!\n"
     ]
    }
   ],
   "source": [
    "game = DiceGame()\n",
    "game.play_game()"
   ]
  },
  {
   "cell_type": "markdown",
   "metadata": {},
   "source": [
    "4. Write a calculator program that provides basic arithmetic operations. Initialize the value to 0 and add methods to perform addition, subtraction, multiplication, and division, along with a reset method."
   ]
  },
  {
   "cell_type": "code",
   "execution_count": 7,
   "metadata": {},
   "outputs": [],
   "source": [
    "class Calculator:\n",
    "    def __init__(self):\n",
    "        self.value = 0\n",
    "    \n",
    "    def add(self, number):\n",
    "        self.value += number\n",
    "    \n",
    "    def subtract(self, number):\n",
    "        self.value -= number\n",
    "    \n",
    "    def multiply(self, number):\n",
    "        self.value *= number\n",
    "    \n",
    "    def divide(self, number):\n",
    "        if number != 0:\n",
    "            self.value /= number\n",
    "        else:\n",
    "            print(\"Cannot divide by zero\")\n",
    "    \n",
    "    def reset(self):\n",
    "        self.value = 0\n",
    "    \n",
    "    def get_value(self):\n",
    "        return self.value"
   ]
  },
  {
   "cell_type": "code",
   "execution_count": 8,
   "metadata": {},
   "outputs": [
    {
     "name": "stdout",
     "output_type": "stream",
     "text": [
      "5\n",
      "3\n",
      "12\n",
      "6.0\n"
     ]
    }
   ],
   "source": [
    "cl = Calculator()\n",
    "cl.add(5)\n",
    "print(cl.get_value())\n",
    "cl.subtract(2)\n",
    "print(cl.get_value())\n",
    "cl.multiply(4)\n",
    "print(cl.get_value())\n",
    "cl.divide(2)\n",
    "print(cl.get_value())"
   ]
  },
  {
   "cell_type": "markdown",
   "metadata": {},
   "source": [
    "5. Implement a better calculator class that inherits from the calculator in problem 4 and adds a method to support exponentiation operations"
   ]
  },
  {
   "cell_type": "code",
   "execution_count": 9,
   "metadata": {},
   "outputs": [],
   "source": [
    "class BetterCalculator(Calculator):\n",
    "    def power(self, exponent):\n",
    "        self.value **= exponent"
   ]
  },
  {
   "cell_type": "code",
   "execution_count": 10,
   "metadata": {},
   "outputs": [
    {
     "name": "stdout",
     "output_type": "stream",
     "text": [
      "5\n",
      "3\n",
      "12\n",
      "6.0\n",
      "1296.0\n"
     ]
    }
   ],
   "source": [
    "bcl = BetterCalculator()\n",
    "bcl.add(5)\n",
    "print(bcl.get_value())\n",
    "bcl.subtract(2)\n",
    "print(bcl.get_value())\n",
    "bcl.multiply(4)\n",
    "print(bcl.get_value())\n",
    "bcl.divide(2)\n",
    "print(bcl.get_value())\n",
    "bcl.power(4)\n",
    "print(bcl.get_value())"
   ]
  },
  {
   "cell_type": "markdown",
   "metadata": {},
   "source": [
    "6. Implement a calculator class that inherits from the calculator in problem 4, overriding the division method so that when dividing by zero, it returns 0 instead of raising a ZeroDivisionError"
   ]
  },
  {
   "cell_type": "code",
   "execution_count": 11,
   "metadata": {},
   "outputs": [],
   "source": [
    "class SafeCalculator(Calculator):\n",
    "    def divide(self, number):\n",
    "        if number == 0:\n",
    "            print(\"Division by zero detected, returning 0\")\n",
    "            self.value = 0\n",
    "        else:\n",
    "            super().divide(number)"
   ]
  },
  {
   "cell_type": "code",
   "execution_count": 12,
   "metadata": {},
   "outputs": [
    {
     "name": "stdout",
     "output_type": "stream",
     "text": [
      "5\n",
      "3\n",
      "12\n",
      "Division by zero detected, returning 0\n"
     ]
    }
   ],
   "source": [
    "scl = SafeCalculator()\n",
    "scl.add(5)\n",
    "print(scl.get_value())\n",
    "scl.subtract(2)\n",
    "print(scl.get_value())\n",
    "scl.multiply(4)\n",
    "print(scl.get_value())\n",
    "scl.divide(0)"
   ]
  }
 ],
 "metadata": {
  "kernelspec": {
   "display_name": "base",
   "language": "python",
   "name": "python3"
  },
  "language_info": {
   "codemirror_mode": {
    "name": "ipython",
    "version": 3
   },
   "file_extension": ".py",
   "mimetype": "text/x-python",
   "name": "python",
   "nbconvert_exporter": "python",
   "pygments_lexer": "ipython3",
   "version": "3.12.2"
  }
 },
 "nbformat": 4,
 "nbformat_minor": 2
}
