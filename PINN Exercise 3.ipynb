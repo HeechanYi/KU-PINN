{
 "cells": [
  {
   "cell_type": "markdown",
   "metadata": {},
   "source": [
    "1. Write a  python function that takes three number as input and returns tha maximum, minimum, and average values."
   ]
  },
  {
   "cell_type": "code",
   "execution_count": 2,
   "metadata": {},
   "outputs": [
    {
     "name": "stdout",
     "output_type": "stream",
     "text": [
      "Your input numbers maximum is 28.0\n",
      "Your input numbers minimum is 14.0\n",
      "Your input numbers average is 19.666666666666668\n"
     ]
    }
   ],
   "source": [
    "def _function(num1, num2, num3):\n",
    "    maximum = max(num1, num2, num3)\n",
    "    minimum = min(num1, num2, num3)\n",
    "    average = (num1 + num2 + num3) / 3\n",
    "    return maximum, minimum, average\n",
    "\n",
    "num1 = float(input(\"Enter a number:\"))\n",
    "num2 = float(input(\"Enter a number:\"))\n",
    "num3 = float(input(\"Enter a number:\"))\n",
    "\n",
    "Max, Min, Avg = _function(num1, num2, num3)\n",
    "print(f\"Your input numbers maximum is {Max}\")\n",
    "print(f\"Your input numbers minimum is {Min}\")\n",
    "print(f\"Your input numbers average is {Avg}\")"
   ]
  },
  {
   "cell_type": "markdown",
   "metadata": {},
   "source": [
    "2. Write a python function that takes an arbitrary number of inputs and returns the maximum, maximum, and average values"
   ]
  },
  {
   "cell_type": "code",
   "execution_count": 3,
   "metadata": {},
   "outputs": [
    {
     "name": "stdout",
     "output_type": "stream",
     "text": [
      "Maximum: 25, Minimum: 5, Average: 15.0\n"
     ]
    }
   ],
   "source": [
    "def calculate_stats(*args):\n",
    "    if len(args) == 0:\n",
    "        return None, None, None\n",
    "\n",
    "    maximum = max(args)\n",
    "    minimum = min(args)\n",
    "    average = sum(args) / len(args)\n",
    "\n",
    "    return maximum, minimum, average\n",
    "\n",
    "max_val, min_val, avg_val = calculate_stats(5, 10, 15, 20, 25)\n",
    "print(f\"Maximum: {max_val}, Minimum: {min_val}, Average: {avg_val}\")\n"
   ]
  },
  {
   "cell_type": "markdown",
   "metadata": {},
   "source": [
    "3. Write a python function that takes a singele string literal and returns the number of vowels in the string."
   ]
  },
  {
   "cell_type": "code",
   "execution_count": 4,
   "metadata": {},
   "outputs": [
    {
     "name": "stdout",
     "output_type": "stream",
     "text": [
      "Number of vowels: 13\n"
     ]
    }
   ],
   "source": [
    "def count_vowels(s):\n",
    "    vowels = \"aeiouAEIOU\"\n",
    "    count = sum(1 for char in s if char in vowels)\n",
    "    return count\n",
    "\n",
    "string = \"Hello, how many vowels are in this sentence?\"\n",
    "vowel_count = count_vowels(string)\n",
    "print(f\"Number of vowels: {vowel_count}\")"
   ]
  },
  {
   "cell_type": "code",
   "execution_count": 5,
   "metadata": {},
   "outputs": [
    {
     "name": "stdout",
     "output_type": "stream",
     "text": [
      "Number of words: 8\n"
     ]
    }
   ],
   "source": [
    "def count_words(s):\n",
    "    words = s.split()\n",
    "    return len(words)\n",
    "\n",
    "# Example usage\n",
    "string = \"Hello, how many words are in this sentence?\"\n",
    "word_count = count_words(string)\n",
    "print(f\"Number of words: {word_count}\")\n"
   ]
  },
  {
   "cell_type": "code",
   "execution_count": 6,
   "metadata": {},
   "outputs": [
    {
     "name": "stdout",
     "output_type": "stream",
     "text": [
      "2^3 = 8.0\n"
     ]
    }
   ],
   "source": [
    "def power(p, n):\n",
    "    if n == 0:\n",
    "        return 1\n",
    "    elif n > 0:\n",
    "        return p * power(p, n - 1)\n",
    "    else:  # Handling negative exponent\n",
    "        return 1 / power(p, -n)\n",
    "\n",
    "# Example usage\n",
    "result = power(2.0, 3)\n",
    "print(f\"2^3 = {result}\")\n"
   ]
  },
  {
   "cell_type": "code",
   "execution_count": 7,
   "metadata": {},
   "outputs": [
    {
     "name": "stdout",
     "output_type": "stream",
     "text": [
      "Is 17 a prime number? True\n"
     ]
    }
   ],
   "source": [
    "def is_prime(n):\n",
    "    if n <= 1:\n",
    "        return False\n",
    "    for i in range(2, int(n ** 0.5) + 1):\n",
    "        if n % i == 0:\n",
    "            return False\n",
    "    return True\n",
    "\n",
    "# Example usage\n",
    "n = 17\n",
    "print(f\"Is {n} a prime number? {is_prime(n)}\")\n"
   ]
  },
  {
   "cell_type": "code",
   "execution_count": 8,
   "metadata": {},
   "outputs": [
    {
     "name": "stdout",
     "output_type": "stream",
     "text": [
      "Root found by bisection method: 1.6180343627929688\n"
     ]
    }
   ],
   "source": [
    "def f(x):\n",
    "    return x**2 - x - 1\n",
    "\n",
    "def bisection_method(a, b, tol=1e-6):\n",
    "    if f(a) * f(b) >= 0:\n",
    "        print(\"Bisection method fails.\")\n",
    "        return None\n",
    "\n",
    "    while (b - a) / 2.0 > tol:\n",
    "        c = (a + b) / 2.0\n",
    "        if abs(f(c)) < tol:\n",
    "            return c\n",
    "        elif f(a) * f(c) < 0:\n",
    "            b = c\n",
    "        else:\n",
    "            a = c\n",
    "\n",
    "    return (a + b) / 2.0\n",
    "\n",
    "root = bisection_method(1, 2)\n",
    "print(f\"Root found by bisection method: {root}\")\n"
   ]
  },
  {
   "cell_type": "code",
   "execution_count": 9,
   "metadata": {},
   "outputs": [
    {
     "name": "stdout",
     "output_type": "stream",
     "text": [
      "Root found by Newton's method with x0 = 10: 1.6180339887500548\n",
      "Root found by Newton's method with x0 = -10: -0.6180339887528198\n"
     ]
    }
   ],
   "source": [
    "def f(x):\n",
    "    return x**2 - x - 1\n",
    "\n",
    "def f_prime(x):\n",
    "    return 2 * x - 1\n",
    "\n",
    "def newtons_method(x0, tol=1e-6, max_iter=1000):\n",
    "    x = x0\n",
    "    for _ in range(max_iter):\n",
    "        fx = f(x)\n",
    "        fpx = f_prime(x)\n",
    "        if abs(fx) < tol:\n",
    "            return x\n",
    "        x = x - fx / fpx\n",
    "    return x\n",
    "\n",
    "# Example usage with initial guesses\n",
    "root_1 = newtons_method(10)\n",
    "print(f\"Root found by Newton's method with x0 = 10: {root_1}\")\n",
    "\n",
    "root_2 = newtons_method(-10)\n",
    "print(f\"Root found by Newton's method with x0 = -10: {root_2}\")\n"
   ]
  }
 ],
 "metadata": {
  "kernelspec": {
   "display_name": "base",
   "language": "python",
   "name": "python3"
  },
  "language_info": {
   "codemirror_mode": {
    "name": "ipython",
    "version": 3
   },
   "file_extension": ".py",
   "mimetype": "text/x-python",
   "name": "python",
   "nbconvert_exporter": "python",
   "pygments_lexer": "ipython3",
   "version": "3.12.4"
  }
 },
 "nbformat": 4,
 "nbformat_minor": 2
}
