{
 "cells": [
  {
   "cell_type": "markdown",
   "metadata": {},
   "source": [
    "### 1. \n",
    "(a) Write a program to find the root of the function $f(x) = x^2 − 1$ using Newton’s method. The initial value is $x_0 = 10$.\n",
    "\n",
    "(b) Write a program to find the minimum of the function $f(x) = x^2$ using Gradient Descent. The initial\n",
    "value is $x_0 = 10$."
   ]
  },
  {
   "cell_type": "code",
   "execution_count": 1,
   "metadata": {},
   "outputs": [
    {
     "name": "stdout",
     "output_type": "stream",
     "text": [
      "Root of f(x) = x^2 - 1 using Newton's method: 1.0\n"
     ]
    }
   ],
   "source": [
    "def newton_method(f, f_prime, x0, tol=1e-6, max_iter=100):\n",
    "    x = x0\n",
    "    for _ in range(max_iter):\n",
    "        x_new = x - f(x) / f_prime(x)\n",
    "        if abs(x_new - x) < tol:\n",
    "            return x_new\n",
    "        x = x_new\n",
    "    return x\n",
    "\n",
    "# Function definitions\n",
    "f = lambda x: x**2 - 1\n",
    "f_prime = lambda x: 2*x\n",
    "\n",
    "# Initial guess x0 = 10\n",
    "root = newton_method(f, f_prime, 10)\n",
    "print(\"Root of f(x) = x^2 - 1 using Newton's method:\", root)\n"
   ]
  },
  {
   "cell_type": "code",
   "execution_count": 2,
   "metadata": {},
   "outputs": [
    {
     "name": "stdout",
     "output_type": "stream",
     "text": [
      "Minimum of f(x) = x^2 using Gradient Descent: 3.213876088517982e-06\n"
     ]
    }
   ],
   "source": [
    "def gradient_descent(f_prime, x0, learning_rate=0.1, tol=1e-6, max_iter=100):\n",
    "    x = x0\n",
    "    for _ in range(max_iter):\n",
    "        x_new = x - learning_rate * f_prime(x)\n",
    "        if abs(x_new - x) < tol:\n",
    "            return x_new\n",
    "        x = x_new\n",
    "    return x\n",
    "\n",
    "# Gradient of f(x) = x^2\n",
    "f_prime = lambda x: 2 * x\n",
    "\n",
    "# Initial guess x0 = 10\n",
    "min_x = gradient_descent(f_prime, 10)\n",
    "print(\"Minimum of f(x) = x^2 using Gradient Descent:\", min_x)"
   ]
  },
  {
   "cell_type": "markdown",
   "metadata": {},
   "source": [
    "### 2. \n",
    "(a) The power method is an iterative algorithm to find the dominant eigenvalue. The algorithm can be summarized as follows:\n",
    "For $A ∈ R_{n×n}$, $b_0 ∈ R_n$, if we assume A has an eigenvalue that is strictly greater in magnitude than its other eigenvalues and the starting vector b0 has a nonzero component in the direction of an eigenvector associated with the dominant eigenvalue, then a sequence $b_k+1 = A_{b_k}/∥A_{b_k}∥$ converges to an\n",
    "eigenvector associated with the dominant eigenvalue.\n",
    "Make a random matrix and find its dominant eigenvalue by using the power method.\n",
    "\n",
    "(b) Write a function that takes a matrix and a number and returns the closest eigenvalue of the matrix\n",
    "from a given number using the inverse shifted power method."
   ]
  },
  {
   "cell_type": "code",
   "execution_count": 3,
   "metadata": {},
   "outputs": [
    {
     "name": "stdout",
     "output_type": "stream",
     "text": [
      "Dominant eigenvalue: 1.4496724331988895\n"
     ]
    }
   ],
   "source": [
    "import numpy as np\n",
    "\n",
    "def power_method(A, num_iter=100, tol=1e-6):\n",
    "    b = np.random.rand(A.shape[0])\n",
    "    for _ in range(num_iter):\n",
    "        b_next = A @ b\n",
    "        b_next = b_next / np.linalg.norm(b_next)\n",
    "        if np.linalg.norm(b_next - b) < tol:\n",
    "            break\n",
    "        b = b_next\n",
    "    eigenvalue = b.T @ A @ b\n",
    "    return eigenvalue, b\n",
    "\n",
    "# Random matrix A\n",
    "A = np.random.rand(3, 3)\n",
    "\n",
    "# Dominant eigenvalue using power method\n",
    "eigenvalue, eigenvector = power_method(A)\n",
    "print(\"Dominant eigenvalue:\", eigenvalue)"
   ]
  },
  {
   "cell_type": "code",
   "execution_count": 4,
   "metadata": {},
   "outputs": [
    {
     "name": "stdout",
     "output_type": "stream",
     "text": [
      "Closest eigenvalue to 1.0 : 2.260482586992275\n"
     ]
    }
   ],
   "source": [
    "def inverse_shifted_power_method(A, shift, num_iter=100, tol=1e-6):\n",
    "    n = A.shape[0]\n",
    "    I = np.eye(n)\n",
    "    A_shifted = A - shift * I\n",
    "    inv_A_shifted = np.linalg.inv(A_shifted)\n",
    "    return power_method(inv_A_shifted, num_iter, tol)\n",
    "\n",
    "# Example usage\n",
    "shift = 1.0\n",
    "closest_eigenvalue, eigenvector = inverse_shifted_power_method(A, shift)\n",
    "print(\"Closest eigenvalue to\", shift, \":\", closest_eigenvalue)"
   ]
  },
  {
   "cell_type": "markdown",
   "metadata": {},
   "source": [
    "### 3. \n",
    "(a) Create a random matrix and check whether it is invertible.\n",
    "\n",
    "(b) If an inverse exists, compute the QR decomposition of the matrix.\n",
    "\n",
    "(c) Check the identities for the orthogonal matrix Q\n",
    ">    i. det(Q) = ±1<br>\n",
    ">    ii. If Qx = λx, then |λ| = 1."
   ]
  },
  {
   "cell_type": "code",
   "execution_count": 5,
   "metadata": {},
   "outputs": [
    {
     "name": "stdout",
     "output_type": "stream",
     "text": [
      "Matrix is invertible\n"
     ]
    }
   ],
   "source": [
    "# Random matrix\n",
    "matrix = np.random.rand(3, 3)\n",
    "\n",
    "# Check if the matrix is invertible by checking its determinant\n",
    "det = np.linalg.det(matrix)\n",
    "if det != 0:\n",
    "    print(\"Matrix is invertible\")\n",
    "else:\n",
    "    print(\"Matrix is not invertible\")"
   ]
  },
  {
   "cell_type": "code",
   "execution_count": 6,
   "metadata": {},
   "outputs": [
    {
     "name": "stdout",
     "output_type": "stream",
     "text": [
      "Q matrix: [[-0.05125313  0.66211402 -0.74764841]\n",
      " [-0.99862473 -0.04225008  0.0310417 ]\n",
      " [-0.01103507  0.74821117  0.66336888]]\n",
      "R matrix: [[-0.26385713 -0.89459473 -0.2876233 ]\n",
      " [ 0.          0.94909434  0.72645164]\n",
      " [ 0.          0.          0.3349196 ]]\n"
     ]
    }
   ],
   "source": [
    "if det != 0:\n",
    "    Q, R = np.linalg.qr(matrix)\n",
    "    print(\"Q matrix:\", Q)\n",
    "    print(\"R matrix:\", R)"
   ]
  },
  {
   "cell_type": "code",
   "execution_count": 7,
   "metadata": {},
   "outputs": [
    {
     "name": "stdout",
     "output_type": "stream",
     "text": [
      "det(Q) = 0.9999999999999999\n",
      "Eigenvalues of Q: [-0.21506717+0.97659926j -0.21506717-0.97659926j  1.        +0.j        ]\n",
      "Check |lambda| = 1 for each eigenvalue: True\n"
     ]
    }
   ],
   "source": [
    "Q_det = np.linalg.det(Q)\n",
    "print(\"det(Q) =\", Q_det)\n",
    "\n",
    "eigenvalues = np.linalg.eigvals(Q)\n",
    "print(\"Eigenvalues of Q:\", eigenvalues)\n",
    "print(\"Check |lambda| = 1 for each eigenvalue:\", np.allclose(np.abs(eigenvalues), 1))"
   ]
  },
  {
   "cell_type": "code",
   "execution_count": null,
   "metadata": {},
   "outputs": [],
   "source": []
  }
 ],
 "metadata": {
  "kernelspec": {
   "display_name": "base",
   "language": "python",
   "name": "python3"
  },
  "language_info": {
   "codemirror_mode": {
    "name": "ipython",
    "version": 3
   },
   "file_extension": ".py",
   "mimetype": "text/x-python",
   "name": "python",
   "nbconvert_exporter": "python",
   "pygments_lexer": "ipython3",
   "version": "3.11.9"
  }
 },
 "nbformat": 4,
 "nbformat_minor": 2
}
