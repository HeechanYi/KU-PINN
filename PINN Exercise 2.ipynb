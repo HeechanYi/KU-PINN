{
 "cells": [
  {
   "cell_type": "markdown",
   "metadata": {},
   "source": [
    "1. Write a program using for loop to calcualte the sum of all even numbers, perfect squares, and powers of 2 that are greater than 0 and less than 10,000"
   ]
  },
  {
   "cell_type": "code",
   "execution_count": 9,
   "metadata": {},
   "outputs": [
    {
     "name": "stdout",
     "output_type": "stream",
     "text": [
      "24995000\n",
      "328350\n",
      "819\n"
     ]
    }
   ],
   "source": [
    "sum_even = 0\n",
    "\n",
    "for i in range(1, 10000):\n",
    "    if i % 2 == 0:\n",
    "        sum_even += i\n",
    "\n",
    "print(sum_even)\n",
    "\n",
    "sum_square = 0\n",
    "\n",
    "for i in range(1, 10000):\n",
    "    if i ** 2 >= 10000:\n",
    "        break\n",
    "    else:\n",
    "        sum_square += i ** 2\n",
    "\n",
    "print(sum_square)\n",
    "\n",
    "\n",
    "sum_power = 0\n",
    "\n",
    "for i in range(1, 10000):\n",
    "    if 2 ** i > 10000:\n",
    "        break\n",
    "    else:\n",
    "        sum_power += i ** 2\n",
    "\n",
    "print(sum_power)"
   ]
  },
  {
   "cell_type": "markdown",
   "metadata": {},
   "source": [
    "2. Repeat problem #1 using while loop."
   ]
  },
  {
   "cell_type": "code",
   "execution_count": 10,
   "metadata": {},
   "outputs": [
    {
     "name": "stdout",
     "output_type": "stream",
     "text": [
      "24995000\n",
      "328350\n",
      "819\n"
     ]
    }
   ],
   "source": [
    "sum_even = 0\n",
    "i = 1\n",
    "while 2*i < 10000:\n",
    "    sum_even += 2*i\n",
    "    i += 1\n",
    "\n",
    "print(sum_even)\n",
    "\n",
    "sum_square = 0\n",
    "i = 1\n",
    "while i**2 < 10000:\n",
    "    sum_square += i ** 2\n",
    "    i += 1\n",
    "\n",
    "print(sum_square)\n",
    "\n",
    "\n",
    "sum_power = 0\n",
    "i = 1\n",
    "while 2 ** i < 10000:\n",
    "    sum_power += i ** 2\n",
    "    i += 1\n",
    "\n",
    "print(sum_power)"
   ]
  },
  {
   "cell_type": "markdown",
   "metadata": {},
   "source": [
    "3. Write a program that takes an integer n as an input and prints the n th Fibonacci number"
   ]
  },
  {
   "cell_type": "code",
   "execution_count": 24,
   "metadata": {},
   "outputs": [
    {
     "data": {
      "text/plain": [
       "55"
      ]
     },
     "execution_count": 24,
     "metadata": {},
     "output_type": "execute_result"
    }
   ],
   "source": [
    "def Fibonaci(n):\n",
    "    if  n == 1 :\n",
    "        return 1\n",
    "    elif n == 2:\n",
    "        return 1\n",
    "    else:\n",
    "        return Fibonaci(n-1) + Fibonaci(n-2)\n",
    "\n",
    "Fibonaci(10)"
   ]
  },
  {
   "cell_type": "markdown",
   "metadata": {},
   "source": [
    "4. Write a program that takes an integer n as an input and prints all prime numbers less than or equal to n."
   ]
  },
  {
   "cell_type": "code",
   "execution_count": 25,
   "metadata": {},
   "outputs": [
    {
     "name": "stdout",
     "output_type": "stream",
     "text": [
      "2\n",
      "3\n",
      "5\n",
      "7\n"
     ]
    }
   ],
   "source": [
    "def is_prime(num):\n",
    "    if num <= 1:\n",
    "        return False\n",
    "    for i in range(2, int(num ** 0.5) + 1):\n",
    "        if num % i == 0:\n",
    "            return False\n",
    "    return True\n",
    "\n",
    "def print_primes_up_to_n(n):\n",
    "    for i in range(2, n + 1):\n",
    "        if is_prime(i):\n",
    "            print(i)\n",
    "\n",
    "n = int(input(\"Enter an integer: \"))\n",
    "print_primes_up_to_n(n)"
   ]
  },
  {
   "cell_type": "markdown",
   "metadata": {},
   "source": [
    "5. Define\n",
    "   $$\\zeta = minimum\\  number\\  of\\  n\\  such\\  that\\  \\sum_{i=1}^n r_i > 1$$\n",
    "   where $r_i$ is a uniform random in [0,1]. Compute the average value of $\\zeta$ from 10,000 samples of $\\zeta$. Compute the error of the average value to the Euler constant $e$(Hint : use random library to sample $r_i$ and math library to compute the error)"
   ]
  },
  {
   "cell_type": "code",
   "execution_count": 32,
   "metadata": {},
   "outputs": [
    {
     "name": "stdout",
     "output_type": "stream",
     "text": [
      "The average of zeta : 2.7175\n",
      "The erroer between the average of zeta and Euler constant : 0.0007818284590452862\n"
     ]
    }
   ],
   "source": [
    "from random import uniform\n",
    "import math\n",
    "\n",
    "zeta_list = []\n",
    "\n",
    "for _ in range(10000):\n",
    "    condition = 0\n",
    "    \n",
    "    for i in range(100):\n",
    "        r = uniform(0, 1)\n",
    "        condition += r\n",
    "\n",
    "        if condition > 1:\n",
    "            zeta = i+1\n",
    "            zeta_list.append(zeta)\n",
    "            break\n",
    "\n",
    "Euler_const = math.e\n",
    "zeta_avg = sum(zeta_list)/10000\n",
    "error = Euler_const - zeta_avg\n",
    "\n",
    "print(\"The average of zeta :\", zeta_avg)\n",
    "print(\"The erroer between the average of zeta and Euler constant :\", error)"
   ]
  },
  {
   "cell_type": "markdown",
   "metadata": {},
   "source": [
    "6. Write a program that takes a positive integer n (if a positive integer is given, print error massage nad prompt to take another input) as an input determines whether n is a prime number"
   ]
  },
  {
   "cell_type": "code",
   "execution_count": 35,
   "metadata": {},
   "outputs": [
    {
     "name": "stdout",
     "output_type": "stream",
     "text": [
      "Your input integer 13 is a prime number : True\n"
     ]
    }
   ],
   "source": [
    "def is_prime(num):\n",
    "    if num <= 1:\n",
    "        return False\n",
    "    for i in range(2, int(num ** 0.5) + 1):\n",
    "        if num % i == 0:\n",
    "            return False\n",
    "    return True\n",
    "\n",
    "n = int(input(\"Enter a positive integer:\"))\n",
    "\n",
    "if  n <= 0 : \n",
    "    print(\"Error; You have to enter a positive integer\")\n",
    "    n = int(input(\"Enter a positive integer:\"))\n",
    "\n",
    "else:\n",
    "    decision = is_prime(n)\n",
    "\n",
    "print(f\"Your input integer {n} is a prime number :\", decision)"
   ]
  },
  {
   "cell_type": "code",
   "execution_count": null,
   "metadata": {},
   "outputs": [],
   "source": []
  }
 ],
 "metadata": {
  "kernelspec": {
   "display_name": "base",
   "language": "python",
   "name": "python3"
  },
  "language_info": {
   "codemirror_mode": {
    "name": "ipython",
    "version": 3
   },
   "file_extension": ".py",
   "mimetype": "text/x-python",
   "name": "python",
   "nbconvert_exporter": "python",
   "pygments_lexer": "ipython3",
   "version": "3.12.4"
  }
 },
 "nbformat": 4,
 "nbformat_minor": 2
}
